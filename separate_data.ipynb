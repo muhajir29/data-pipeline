{
 "cells": [
  {
   "cell_type": "code",
   "execution_count": 2,
   "id": "e7383795-e551-47c1-877f-0d03140101d5",
   "metadata": {},
   "outputs": [],
   "source": [
    "import pandas as pd"
   ]
  },
  {
   "cell_type": "code",
   "execution_count": 3,
   "id": "37f8121d-c856-4b0c-ac70-d4f7897644bf",
   "metadata": {},
   "outputs": [],
   "source": [
    "order = pd.read_csv(\"/workspaces/datapipeline/data_source/order.csv\")\n",
    "menu = pd.read_csv(\"/workspaces/datapipeline/data_source/menu.csv\")\n",
    "promotion = pd.read_csv(\"/workspaces/datapipeline/data_source/promotion.csv\")"
   ]
  },
  {
   "cell_type": "code",
   "execution_count": 12,
   "id": "ae874ac8-4dd8-4f47-aa96-4e4604fcafc5",
   "metadata": {},
   "outputs": [],
   "source": [
    "order.sales_date = pd.to_datetime(order.sales_date)\n",
    "menu.effective_date = pd.to_datetime(menu.effective_date)\n",
    "promotion.start_date = pd.to_datetime(promotion.start_date)\n",
    "promotion.end_date = pd.to_datetime(promotion.end_date)"
   ]
  },
  {
   "cell_type": "code",
   "execution_count": 18,
   "id": "8edcee27-3f05-4c6c-8e07-dfddc2bbb9db",
   "metadata": {},
   "outputs": [],
   "source": [
    "order = order.sort_values(by = 'sales_date', ascending = False)"
   ]
  },
  {
   "cell_type": "code",
   "execution_count": 36,
   "id": "558e079f-81ac-4c46-b9db-9d3429b63191",
   "metadata": {},
   "outputs": [],
   "source": [
    "data = order[order.sales_date <= '2021-04-25']\n",
    "data.to_csv(\"order_2021_04_25.csv\" , index = False) "
   ]
  },
  {
   "cell_type": "code",
   "execution_count": 35,
   "id": "87f64169-cd07-43d1-961e-4eed4854403c",
   "metadata": {},
   "outputs": [
    {
     "data": {
      "text/html": [
       "<div>\n",
       "<style scoped>\n",
       "    .dataframe tbody tr th:only-of-type {\n",
       "        vertical-align: middle;\n",
       "    }\n",
       "\n",
       "    .dataframe tbody tr th {\n",
       "        vertical-align: top;\n",
       "    }\n",
       "\n",
       "    .dataframe thead th {\n",
       "        text-align: right;\n",
       "    }\n",
       "</style>\n",
       "<table border=\"1\" class=\"dataframe\">\n",
       "  <thead>\n",
       "    <tr style=\"text-align: right;\">\n",
       "      <th></th>\n",
       "      <th>order_id</th>\n",
       "      <th>menu_id</th>\n",
       "      <th>quantity</th>\n",
       "      <th>sales_date</th>\n",
       "    </tr>\n",
       "  </thead>\n",
       "  <tbody>\n",
       "    <tr>\n",
       "      <th>950</th>\n",
       "      <td>286</td>\n",
       "      <td>1</td>\n",
       "      <td>3</td>\n",
       "      <td>2021-04-25</td>\n",
       "    </tr>\n",
       "    <tr>\n",
       "      <th>953</th>\n",
       "      <td>287</td>\n",
       "      <td>3</td>\n",
       "      <td>3</td>\n",
       "      <td>2021-04-25</td>\n",
       "    </tr>\n",
       "    <tr>\n",
       "      <th>951</th>\n",
       "      <td>287</td>\n",
       "      <td>1</td>\n",
       "      <td>4</td>\n",
       "      <td>2021-04-25</td>\n",
       "    </tr>\n",
       "    <tr>\n",
       "      <th>952</th>\n",
       "      <td>287</td>\n",
       "      <td>1</td>\n",
       "      <td>3</td>\n",
       "      <td>2021-04-25</td>\n",
       "    </tr>\n",
       "    <tr>\n",
       "      <th>954</th>\n",
       "      <td>288</td>\n",
       "      <td>2</td>\n",
       "      <td>5</td>\n",
       "      <td>2021-04-25</td>\n",
       "    </tr>\n",
       "    <tr>\n",
       "      <th>...</th>\n",
       "      <td>...</td>\n",
       "      <td>...</td>\n",
       "      <td>...</td>\n",
       "      <td>...</td>\n",
       "    </tr>\n",
       "    <tr>\n",
       "      <th>1</th>\n",
       "      <td>1</td>\n",
       "      <td>3</td>\n",
       "      <td>5</td>\n",
       "      <td>2021-01-01</td>\n",
       "    </tr>\n",
       "    <tr>\n",
       "      <th>5</th>\n",
       "      <td>2</td>\n",
       "      <td>4</td>\n",
       "      <td>1</td>\n",
       "      <td>2021-01-01</td>\n",
       "    </tr>\n",
       "    <tr>\n",
       "      <th>6</th>\n",
       "      <td>2</td>\n",
       "      <td>3</td>\n",
       "      <td>2</td>\n",
       "      <td>2021-01-01</td>\n",
       "    </tr>\n",
       "    <tr>\n",
       "      <th>7</th>\n",
       "      <td>2</td>\n",
       "      <td>4</td>\n",
       "      <td>4</td>\n",
       "      <td>2021-01-01</td>\n",
       "    </tr>\n",
       "    <tr>\n",
       "      <th>0</th>\n",
       "      <td>1</td>\n",
       "      <td>3</td>\n",
       "      <td>5</td>\n",
       "      <td>2021-01-01</td>\n",
       "    </tr>\n",
       "  </tbody>\n",
       "</table>\n",
       "<p>957 rows × 4 columns</p>\n",
       "</div>"
      ],
      "text/plain": [
       "     order_id  menu_id  quantity sales_date\n",
       "950       286        1         3 2021-04-25\n",
       "953       287        3         3 2021-04-25\n",
       "951       287        1         4 2021-04-25\n",
       "952       287        1         3 2021-04-25\n",
       "954       288        2         5 2021-04-25\n",
       "..        ...      ...       ...        ...\n",
       "1           1        3         5 2021-01-01\n",
       "5           2        4         1 2021-01-01\n",
       "6           2        3         2 2021-01-01\n",
       "7           2        4         4 2021-01-01\n",
       "0           1        3         5 2021-01-01\n",
       "\n",
       "[957 rows x 4 columns]"
      ]
     },
     "execution_count": 35,
     "metadata": {},
     "output_type": "execute_result"
    }
   ],
   "source": [
    "\n"
   ]
  },
  {
   "cell_type": "code",
   "execution_count": 40,
   "id": "59c4091e-5c2b-42ca-a0fc-51b480d24833",
   "metadata": {},
   "outputs": [],
   "source": [
    "list_back_filling = ['2021-05-01', '2021-04-30', '2021-04-29', '2021-04-28', '2021-04-27', '2021-04-26', '2021-04-25']\n",
    "# for date in list_back_filling:\n",
    "#     data = order[order.sales_date == date]\n",
    "#     date_str = date.replace(\"-\", \"_\")\n",
    "#     data.to_csv(f\"order_{date_str}.csv\", index = False) \n"
   ]
  },
  {
   "cell_type": "code",
   "execution_count": 42,
   "id": "2dbcc8cb-c720-4f92-8dfd-a0104fe9db26",
   "metadata": {},
   "outputs": [],
   "source": [
    "for date in list_back_filling:\n",
    "    date_str = date.replace(\"-\", \"_\")\n",
    "    promotion.to_csv(f\"promotion_{date_str}.csv\", index = False)"
   ]
  },
  {
   "cell_type": "code",
   "execution_count": null,
   "id": "9c19cded-c27f-4cbb-9e5d-8cc7aa74be0d",
   "metadata": {},
   "outputs": [],
   "source": []
  }
 ],
 "metadata": {
  "kernelspec": {
   "display_name": "Python 3 (ipykernel)",
   "language": "python",
   "name": "python3"
  },
  "language_info": {
   "codemirror_mode": {
    "name": "ipython",
    "version": 3
   },
   "file_extension": ".py",
   "mimetype": "text/x-python",
   "name": "python",
   "nbconvert_exporter": "python",
   "pygments_lexer": "ipython3",
   "version": "3.10.13"
  }
 },
 "nbformat": 4,
 "nbformat_minor": 5
}
